{
  "nbformat": 4,
  "nbformat_minor": 0,
  "metadata": {
    "colab": {
      "provenance": [],
      "toc_visible": true
    },
    "kernelspec": {
      "name": "python3",
      "display_name": "Python 3"
    },
    "language_info": {
      "name": "python"
    }
  },
  "cells": [
    {
      "cell_type": "code",
      "execution_count": null,
      "metadata": {
        "id": "WCfnZzTg2fxE"
      },
      "outputs": [],
      "source": [
        "import pandas as pd\n",
        "import yfinance as yf\n",
        "from datetime import datetime, timedelta\n",
        "# Define the ticker and download data\n",
        "ticker = 'SPY'\n",
        "end_date = datetime.now()\n",
        "start_date = end_date - timedelta(days=5*365)\n",
        "\n",
        "price_data = yf.download(ticker, start=start_date, end=end_date, auto_adjust=True)\n",
        "\n",
        "print(price_data.head())\n",
        "print(price_data.tail())"
      ]
    },
    {
      "cell_type": "code",
      "source": [
        "# Trading Signal\n",
        "\n",
        "# Calculate the % returns\n",
        "price_data['daily_return'] = price_data['Close'].pct_change()\n",
        "\n",
        "# Calculate return from previous day by shift\n",
        "price_data['signal'] = price_data['daily_return'].shift(1)\n",
        "\n",
        "# Clean data\n",
        "price_data.dropna(inplace=True)\n",
        "\n",
        "# Print the head and tail\n",
        "print(\"First 5 rows\")\n",
        "print(price_data[['Close', 'daily_return', 'signal']].head())\n",
        "\n",
        "print(\"Last 5 rows\")\n",
        "print(price_data[['Close', 'daily_return', 'signal']].tail())"
      ],
      "metadata": {
        "id": "Om8L03Ou3b8J"
      },
      "execution_count": null,
      "outputs": []
    },
    {
      "cell_type": "code",
      "source": [
        "# BACKTEST WITH VECTOR AND STATISTICS\n",
        "import vectorbt as vbt\n",
        "\n",
        "long_threshold = 0.01\n",
        "short_threshold = -0.01\n",
        "\n",
        "#Entry\n",
        "entries = price_data['signal'] > long_threshold\n",
        "#Exit\n",
        "exits = price_data['signal'] < short_threshold\n",
        "\n",
        "portfolio = vbt.Portfolio.from_signals(\n",
        "    close=price_data['Close'],\n",
        "    open=price_data['Open'],\n",
        "    entries = entries,\n",
        "    exits = exits,\n",
        "    init_cash = 100000,\n",
        "    freq = 'D')\n",
        "\n",
        "print(portfolio.stats())"
      ],
      "metadata": {
        "id": "3N9Hcd03lAYC"
      },
      "execution_count": null,
      "outputs": []
    },
    {
      "cell_type": "code",
      "source": [
        "import matplotlib.pyplot as plt\n",
        "import matplotlib.ticker as mtick\n",
        "\n",
        "# Backtest Dashboard\n",
        "\n",
        "print(\"Generating the complete backtest dashboard...\")\n",
        "\n",
        "# Data Preparation (Signals and Returns)\n",
        "long_threshold = 0.01\n",
        "short_threshold = -0.01\n",
        "entries = price_data['signal'] > long_threshold\n",
        "exits = price_data['signal'] < short_threshold\n",
        "\n",
        "daily_returns = price_data['Close'].pct_change().dropna()\n",
        "benchmark_cumulative_returns = (1 + daily_returns).cumprod() - 1\n",
        "strategy_cumulative_returns = portfolio.cumulative_returns()\n",
        "drawdown_series = portfolio.drawdown()['SPY']\n",
        "\n",
        "\n",
        "#Three Subplots\n",
        "fig, (ax1, ax2, ax3) = plt.subplots(\n",
        "    nrows=3,\n",
        "    ncols=1,\n",
        "    figsize=(18, 10),\n",
        "    sharex=True)\n",
        "fig.suptitle('OFI Backtest Analysis', fontsize=20)\n",
        "\n",
        "#Price with Signals (Top Chart)\n",
        "ax1.set_title('SPY Price with Buy & Sell Signals', fontsize=14)\n",
        "ax1.set_ylabel('Price ($)', fontsize=12)\n",
        "ax1.plot(price_data.index, price_data['Close'], label='SPY Close Price', color='k')\n",
        "ax1.plot(price_data.loc[entries].index, price_data.loc[entries]['Close'], linestyle='None', marker='^', markersize=4, color='green', label='Buy Signal')\n",
        "ax1.plot(price_data.loc[exits].index, price_data.loc[exits]['Close'], linestyle='None', marker='v', markersize=4, color='red', label='Sell/Short Signal')\n",
        "ax1.grid(True)\n",
        "ax1.legend()\n",
        "\n",
        "#Cumulative Returns (Middle Chart)\n",
        "ax2.set_title('Strategy Performance vs. Buy & Hold Benchmark', fontsize=14)\n",
        "ax2.set_ylabel('Cumulative Returns', fontsize=12)\n",
        "ax2.plot(strategy_cumulative_returns.index, strategy_cumulative_returns, label='OFI Strategy', color='green')\n",
        "ax2.plot(benchmark_cumulative_returns.index, benchmark_cumulative_returns, label='Benchmark (Buy & Hold SPY)', linestyle= '--')\n",
        "ax2.yaxis.set_major_formatter(mtick.PercentFormatter(1.0))\n",
        "ax2.grid(True)\n",
        "ax2.legend()\n",
        "\n",
        "\n",
        "#Drawdown Chart (Bottom Chart)\n",
        "ax3.set_title('Portfolio Drawdown', fontsize=14)\n",
        "ax3.set_ylabel('Drawdown', fontsize=12)\n",
        "ax3.plot(drawdown_series.index, drawdown_series, color='red')\n",
        "ax3.fill_between(drawdown_series.index, drawdown_series, 0, color='red', alpha=0.1)\n",
        "ax3.yaxis.set_major_formatter(mtick.PercentFormatter(1.0))\n",
        "ax3.grid(True)\n",
        "\n",
        "\n",
        "\n",
        "plt.xlabel('Date', fontsize=12)\n",
        "plt.tight_layout(rect=[0, 0, 1, 0.96])\n",
        "plt.show()"
      ],
      "metadata": {
        "id": "8EFUqZT62Az4"
      },
      "execution_count": null,
      "outputs": []
    }
  ]
}